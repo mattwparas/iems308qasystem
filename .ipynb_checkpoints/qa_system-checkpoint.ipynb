{
 "cells": [
  {
   "cell_type": "markdown",
   "metadata": {},
   "source": [
    "# QA system IEMS 308\n",
    "\n",
    "Matthew Paras\n"
   ]
  },
  {
   "cell_type": "code",
   "execution_count": 1,
   "metadata": {},
   "outputs": [],
   "source": [
    "import ast\n",
    "import re\n",
    "import datetime\n",
    "from dateutil import parser\n",
    "import numpy as np\n",
    "from elasticsearch import Elasticsearch, helpers\n",
    "from elasticsearch_dsl import Search, query\n",
    "from nltk import tag, tokenize\n",
    "from nltk.corpus import stopwords\n",
    "from sklearn.feature_extraction.text import TfidfVectorizer\n",
    "import string\n",
    "import pandas as pd\n",
    "from nltk.corpus import stopwords"
   ]
  },
  {
   "cell_type": "code",
   "execution_count": 2,
   "metadata": {},
   "outputs": [
    {
     "data": {
      "text/plain": [
       "730"
      ]
     },
     "execution_count": 2,
     "metadata": {},
     "output_type": "execute_result"
    }
   ],
   "source": [
    "# load corpus\n",
    "# articles\n",
    "articles = pd.read_csv(\"articles.csv\")\n",
    "list_of_articles = [ast.literal_eval(x) for x in articles['Article'].values]\n",
    "len(list_of_articles)"
   ]
  },
  {
   "cell_type": "code",
   "execution_count": 3,
   "metadata": {},
   "outputs": [
    {
     "data": {
      "text/plain": [
       "35898"
      ]
     },
     "execution_count": 3,
     "metadata": {},
     "output_type": "execute_result"
    }
   ],
   "source": [
    "total_articles = 0\n",
    "for day in list_of_articles:\n",
    "    for article in day:\n",
    "        total_articles += 1\n",
    "total_articles"
   ]
  },
  {
   "cell_type": "markdown",
   "metadata": {},
   "source": [
    "# Load Corpus into Elasticsearch"
   ]
  },
  {
   "cell_type": "code",
   "execution_count": 4,
   "metadata": {},
   "outputs": [],
   "source": [
    "# Connect to Elasticsearch -- must be running on localhost:9200\n",
    "elastic = Elasticsearch()\n",
    "if not elastic.indices.exists(index = \"articles\"):\n",
    "    elastic.indices.create(index = \"articles\")"
   ]
  },
  {
   "cell_type": "code",
   "execution_count": 5,
   "metadata": {},
   "outputs": [],
   "source": [
    "def build_elastic(day_index, article_index, sentences):\n",
    "    date = datetime.date(2013, 1, 1) + datetime.timedelta(day_index)\n",
    "    article_body = \" \".join(sentences)\n",
    "    article_id = \"{}.{}\".format(day_index, article_index)\n",
    "    document_info = {\n",
    "        \"body\" : article_body,\n",
    "        \"date\" : date,\n",
    "        \"month\" : date.month,\n",
    "        \"year\" : date.year\n",
    "    }\n",
    "    \n",
    "    output_json = {\n",
    "        \"_index\" : \"articles\",\n",
    "        \"_type\" : \"article\",\n",
    "        \"_id\" : article_id,\n",
    "        \"_source\" : document_info   \n",
    "    }\n",
    "    return output_json"
   ]
  },
  {
   "cell_type": "code",
   "execution_count": 6,
   "metadata": {},
   "outputs": [
    {
     "data": {
      "text/plain": [
       "(35898, [])"
      ]
     },
     "execution_count": 6,
     "metadata": {},
     "output_type": "execute_result"
    }
   ],
   "source": [
    "db_dump = []\n",
    "for date_index, date in enumerate(list_of_articles):\n",
    "    for article_index, article in enumerate(date):\n",
    "        db_dump.append(build_elastic(date_index, article_index, article))\n",
    "        \n",
    "helpers.bulk(elastic, db_dump)"
   ]
  },
  {
   "cell_type": "code",
   "execution_count": 7,
   "metadata": {},
   "outputs": [
    {
     "data": {
      "text/plain": [
       "{'_index': 'articles',\n",
       " '_type': 'article',\n",
       " '_id': '512.16',\n",
       " '_source': {'body': \"For Porter House New York chef and managing partner Michael Lomonaco, preparing steak is a blend of art and science. State-of-the-art cooking facilities at the restaurant's prime Manhattan location in the Time Warner Center include a broiler that can reach 1,800o F and a high-quality dry-aging locker for the meat. Watch Chef Lomonaco explain the properties of different cuts of meat and how to choose them, the best way to get your meat ready, and some tips on how to grill them to perfection. Originally produced in January 2013 by Daniel Goodman. Follow BI Video: On Facebook\",\n",
       "  'date': datetime.date(2014, 5, 28),\n",
       "  'month': 5,\n",
       "  'year': 2014}}"
      ]
     },
     "execution_count": 7,
     "metadata": {},
     "output_type": "execute_result"
    }
   ],
   "source": [
    "db_dump[25000]"
   ]
  },
  {
   "cell_type": "markdown",
   "metadata": {},
   "source": [
    "### Question Types to Classify\n",
    "\n",
    "*Which companies went bankrupt in month X of year Y?*\n",
    "\n",
    "* The answer should be the name of the companies.\n",
    "\n",
    "*What affects GDP? What percentage of drop or increase is associated with this property?*\n",
    "\n",
    "* It should work in the following way: *What affects GDP?* \n",
    "\n",
    "* Answer: unemployment, interest rates, … \n",
    "\n",
    "Then the user asks the follow-up question: *What percentage of drop or\n",
    "increase is associated with Z?* (Here Z can be: unemployment or interest rates or any\n",
    "other property returned.) \n",
    "\n",
    "* Answer: 1.0%\n",
    "\n",
    "\n",
    "*Who is the CEO of company X?*\n",
    "* The answer should be the first and last name of the CEO. "
   ]
  },
  {
   "cell_type": "code",
   "execution_count": 8,
   "metadata": {},
   "outputs": [],
   "source": [
    "def classify_question(question):  \n",
    "    question = question.lower()\n",
    "    # bankrupt -> Type 1\n",
    "    if \"bankrupt\" in question:\n",
    "        return 1\n",
    "    # What affects GDP -> Type 2\n",
    "    if \"affect\" in question and \"gdp\" in question:\n",
    "        return 2\n",
    "    # CEO -> Type 3\n",
    "    if \"ceo\" in question:\n",
    "        return 3\n",
    "    # followup question -> Type 4?\n",
    "    return 4"
   ]
  },
  {
   "cell_type": "markdown",
   "metadata": {},
   "source": [
    "### Extremely naive entity extraction for generating the queries"
   ]
  },
  {
   "cell_type": "code",
   "execution_count": 9,
   "metadata": {},
   "outputs": [],
   "source": [
    "def parse_type_1(question):\n",
    "    question = question.lower()\n",
    "    months = [\"january\", \"february\", \"march\", \"april\", \"may\", \"june\", \"july\", \"august\", \"september\", \"october\", \"november\", \"december\"]\n",
    "    years = [\"2013\", \"2014\"]\n",
    "    split_question = question.split(' ')\n",
    "    for index, word in enumerate(months):\n",
    "        if word in question:\n",
    "            found_month = (index, word)\n",
    "    \n",
    "    for index, word in enumerate(years):\n",
    "        if word in question:\n",
    "            found_year = (index, word)\n",
    "    \n",
    "    bankrupt = ' '.join([\"bankrupt\", \"bankruptcy\"])\n",
    "    \n",
    "    # Write all queries\n",
    "    matching_bankrupt = query.Q(\"query_string\", query = bankrupt)\n",
    "    matching_month = query.Q(\"match\", month = found_month[0])\n",
    "    matching_year = query.Q(\"match\", year = int(found_year[1]))\n",
    "    return matching_bankrupt + matching_month + matching_year\n",
    "\n",
    "\n",
    "def parse_type_2(question):\n",
    "    question = question.lower()\n",
    "    gdp = \"GDP\"\n",
    "    affect_list = [\"affects\", \"affect\", \"effects\", \"effect\"]\n",
    "    affect_string = ' '.join(affect_list)\n",
    "    return query.Q(\"query_string\", query = gdp) + query.Q(\"query_string\", query = affect_string)\n",
    "\n",
    "\n",
    "def parse_type_3(question):\n",
    "    question = question.split(' ')\n",
    "    ceo = [\"CEO\"]\n",
    "    if \"company\" in question:\n",
    "        company = question[question.index(\"company\")+1:]\n",
    "    else:\n",
    "        if \"of\" in question:\n",
    "            company = question[question.index(\"of\")+1:]\n",
    "    company = [x.replace('?', '') for x in company]\n",
    "    output_list = ceo + company\n",
    "    and_string = ' AND '.join(output_list)\n",
    "    return query.Q(\"query_string\", query = and_string)\n",
    "\n",
    "def parse_type_4(question):\n",
    "    # find words after select keywords\n",
    "    prepositions = [\"is\", \"from\", \"with\", \"about\", \"above\", \"by\", \"for\", \"in\"]\n",
    "    punctuation = ['?', '.', '!']\n",
    "    # identify property after prepositions\n",
    "    found_prepositions = []\n",
    "    for index, word in enumerate(question.split(' ')):\n",
    "        if word in prepositions:\n",
    "            found_prepositions.append(index)\n",
    "    if found_prepositions:\n",
    "        last_preposition = found_prepositions.pop()\n",
    "    if last_preposition:\n",
    "        selected_property = ' '.join(question.split(' ')[last_preposition + 1:])\n",
    "        for punct in punctuation:\n",
    "            if punct in selected_property:\n",
    "                selected_property = selected_property.replace(punct, '')\n",
    "    \n",
    "    search_strings = selected_property + \" GDP\"\n",
    "    group1 = ' AND '.join(search_strings.split(' '))\n",
    "    \n",
    "    associated_words = \"affect affects effect effects fall high low increase decrease rise drop\"\n",
    "    \n",
    "    return query.Q(\"query_string\", query = group1) + query.Q(\"query_string\", query = associated_words)"
   ]
  },
  {
   "cell_type": "code",
   "execution_count": 10,
   "metadata": {},
   "outputs": [],
   "source": [
    "stop_words = set(stopwords.words(\"english\"))\n",
    "def remove_stop_words(big_string):\n",
    "    return \" \".join([x for x in big_string.split(' ') if x.lower not in stop_words])"
   ]
  },
  {
   "cell_type": "code",
   "execution_count": 11,
   "metadata": {},
   "outputs": [],
   "source": [
    "# search for the top 50 results using elastic search\n",
    "def search_for_query(es_query):\n",
    "    search_using_elastic = Search(using = elastic, index = \"articles\")\n",
    "    query_search = search_using_elastic.query(es_query)[:50]\n",
    "    return query_search.execute()"
   ]
  },
  {
   "cell_type": "code",
   "execution_count": 12,
   "metadata": {},
   "outputs": [],
   "source": [
    "from find_percentages import find_percentages\n",
    "import find_ceos as fc\n",
    "from find_companies import find_potential_companies"
   ]
  },
  {
   "cell_type": "code",
   "execution_count": 63,
   "metadata": {},
   "outputs": [],
   "source": [
    "def parse_type_1_results(results):\n",
    "    # what company went bankrupt in march of 2013\n",
    "    found_sentences = []\n",
    "    for article in results.hits:\n",
    "        list_of_sentences = tokenize.sent_tokenize(article.body)\n",
    "        gdp_sentences = [x for x in list_of_sentences if \"bankrupt\" in x.lower()]\n",
    "        found_sentences += gdp_sentences\n",
    "    \n",
    "    found_companies = find_potential_companies(found_sentences)\n",
    "    most_common = pd.Series(found_companies).value_counts().index[0]\n",
    "    \n",
    "    return most_common\n",
    "\n",
    "\n",
    "def parse_type_2_results(results):   \n",
    "    # what factors affect GDP\n",
    "    articles = [x.body for x in results.hits]\n",
    "    articles = [remove_stop_words(x) for x in articles]\n",
    "    tf_vectorizer = TfidfVectorizer(ngram_range = (1, 2))\n",
    "    tfidf_scores = tf_vectorizer.fit_transform(articles)\n",
    "    sum_frequencies = np.sum(tfidf_scores, axis = 0)\n",
    "    # get the top 20 words\n",
    "    words = np.array(tf_vectorizer.get_feature_names())[np.argsort(sum_frequencies)[:, -50:]]\n",
    "    \n",
    "    no_stop_words = [x for x in words[0] if x not in stop_words]\n",
    "    \n",
    "    return no_stop_words\n",
    "\n",
    "def parse_type_3_results(results):\n",
    "    # CEO of what company\n",
    "    found_sentences = []\n",
    "    for article in results.hits:\n",
    "        list_of_sentences = tokenize.sent_tokenize(article.body)\n",
    "        gdp_sentences = [x for x in list_of_sentences if \"ceo\" in x.lower()]\n",
    "        found_sentences += gdp_sentences\n",
    "    \n",
    "    potential_ceos = fc.find_ceo_matches(found_sentences)\n",
    "    most_common = pd.Series(potential_ceos).value_counts().index[0]\n",
    "    return most_common\n",
    "\n",
    "\n",
    "def parse_type_4_results(results):\n",
    "    # what percentage drop is associated with property\n",
    "    found_sentences = []\n",
    "    for article in results.hits:\n",
    "        list_of_sentences = tokenize.sent_tokenize(article.body)\n",
    "        gdp_sentences = [x for x in list_of_sentences if \"gdp\" in x.lower()]\n",
    "        found_sentences += gdp_sentences\n",
    "    \n",
    "    found_percents = [find_percentages(x) for x in found_sentences]\n",
    "    flat_list = [item for sublist in found_percents for item in sublist]\n",
    "    most_common = pd.Series(flat_list).value_counts().index[0]\n",
    "    return most_common"
   ]
  },
  {
   "cell_type": "code",
   "execution_count": 68,
   "metadata": {},
   "outputs": [],
   "source": [
    "def classify_and_parse_question(question):\n",
    "    classification = classify_question(question)\n",
    "    if classification == 1:\n",
    "        query1 = parse_type_1(question)\n",
    "        results = search_for_query(query1)\n",
    "        parsed_results = parse_type_1_results(results)\n",
    "        return parsed_results\n",
    "    if classification == 2:\n",
    "        query2 = parse_type_2(question)\n",
    "        results = search_for_query(query2)\n",
    "        parsed_results = parse_type_2_results(results)\n",
    "        return parsed_results\n",
    "    if classification == 3:\n",
    "        query3 = parse_type_3(question)\n",
    "        results = search_for_query(query3)\n",
    "        parsed_results = parse_type_3_results(results)\n",
    "        return parsed_results\n",
    "    if classification == 4:\n",
    "        query4 = parse_type_4(question)\n",
    "        results = search_for_query(query4)\n",
    "        parsed_results = parse_type_4_results(results)\n",
    "        return parsed_results"
   ]
  },
  {
   "cell_type": "markdown",
   "metadata": {},
   "source": [
    "## Sample Output"
   ]
  },
  {
   "cell_type": "markdown",
   "metadata": {},
   "source": [
    "### Companies going bankrupt at date"
   ]
  },
  {
   "cell_type": "code",
   "execution_count": 82,
   "metadata": {},
   "outputs": [
    {
     "name": "stdout",
     "output_type": "stream",
     "text": [
      "Apple\n",
      "Apple\n",
      "Fisker\n",
      "Detroit\n",
      "Detroit\n",
      "Detroit\n"
     ]
    }
   ],
   "source": [
    "print(classify_and_parse_question(\"What company went bankrupt in April of 2014?\"))\n",
    "print(classify_and_parse_question(\"What company declared bankruptcy in November of 2014?\"))\n",
    "print(classify_and_parse_question(\"What company went bankrupt in February of 2013?\"))\n",
    "print(classify_and_parse_question(\"What company went bankrupt in July of 2013?\"))\n",
    "print(classify_and_parse_question(\"What company went bankrupt in August of 2013?\"))\n",
    "print(classify_and_parse_question(\"What company went bankrupt in September of 2013?\"))"
   ]
  },
  {
   "cell_type": "markdown",
   "metadata": {},
   "source": [
    "## CEO of companies"
   ]
  },
  {
   "cell_type": "code",
   "execution_count": 75,
   "metadata": {},
   "outputs": [
    {
     "name": "stdout",
     "output_type": "stream",
     "text": [
      "Lloyd Blankfein\n",
      "Mark Zuckerberg\n",
      "Tim Cook\n",
      "Chief Executive\n",
      "Elon Musk\n"
     ]
    }
   ],
   "source": [
    "print(classify_and_parse_question(\"Who is the CEO of Goldman Sachs?\"))\n",
    "print(classify_and_parse_question(\"Who is the CEO of Facebook?\"))\n",
    "print(classify_and_parse_question(\"Who is the CEO of Apple?\"))\n",
    "print(classify_and_parse_question(\"Who is the CEO of Apple Inc?\"))\n",
    "print(classify_and_parse_question(\"WHo is the CEO of Tesla?\"))"
   ]
  },
  {
   "cell_type": "markdown",
   "metadata": {},
   "source": [
    "## What factors affect GDP?"
   ]
  },
  {
   "cell_type": "code",
   "execution_count": 76,
   "metadata": {},
   "outputs": [
    {
     "name": "stdout",
     "output_type": "stream",
     "text": [
      "['japan', 'policy', 'debt', 'weather', 'us', 'government', 'said', 'fed', 'percent', 'spending', 'prices', 'year', 'would', 'economic', 'economy', 'gdp', 'in the', 'growth', 'of the', 'oil']\n"
     ]
    }
   ],
   "source": [
    "print(classify_and_parse_question(\"What factors affect GDP?\"))"
   ]
  },
  {
   "cell_type": "markdown",
   "metadata": {},
   "source": [
    "## Followup GDP Questions"
   ]
  },
  {
   "cell_type": "code",
   "execution_count": 79,
   "metadata": {},
   "outputs": [
    {
     "name": "stdout",
     "output_type": "stream",
     "text": [
      "2.5%\n",
      "2%\n",
      "0.5%\n"
     ]
    }
   ],
   "source": [
    "print(classify_and_parse_question(\"What percentage increase is associated with government spending?\"))\n",
    "print(classify_and_parse_question(\"What percentage decrease is associated with prices?\"))\n",
    "print(classify_and_parse_question(\"What percentage change or drop is comes from oil?\"))"
   ]
  },
  {
   "cell_type": "code",
   "execution_count": null,
   "metadata": {},
   "outputs": [],
   "source": []
  }
 ],
 "metadata": {
  "kernelspec": {
   "display_name": "Python 3",
   "language": "python",
   "name": "python3"
  },
  "language_info": {
   "codemirror_mode": {
    "name": "ipython",
    "version": 3
   },
   "file_extension": ".py",
   "mimetype": "text/x-python",
   "name": "python",
   "nbconvert_exporter": "python",
   "pygments_lexer": "ipython3",
   "version": "3.6.5"
  }
 },
 "nbformat": 4,
 "nbformat_minor": 2
}
